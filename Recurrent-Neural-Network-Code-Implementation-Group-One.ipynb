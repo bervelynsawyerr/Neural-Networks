{
 "cells": [
  {
   "cell_type": "markdown",
   "id": "59c6da82",
   "metadata": {},
   "source": [
    "# Group Names and Roll Numbers: \n",
    "1. Bervelyn Sawyerr-Markwei - 10201100095.\n",
    "2. Nii Lantey Bannerman - 10201100083.\n",
    "3. Wewedou Solim Claude Sanda - 10201100193.\n",
    "\n",
    "# Course Name: Neural Networks.\n",
    "# Course Code: CS4138.\n",
    "# Assignment: Recurrent Neural Network Code Implemtation.\n",
    "# Date: 17th October 2023."
   ]
  },
  {
   "cell_type": "markdown",
   "id": "87548f5d",
   "metadata": {},
   "source": [
    "## 1. Import Libraries."
   ]
  },
  {
   "cell_type": "code",
   "execution_count": 1,
   "id": "4b34910f",
   "metadata": {},
   "outputs": [],
   "source": [
    "import numpy as np # linear algebra\n",
    "import pandas as pd # data processing, CSV file I/O (e.g. pd.read_csv)\n",
    "import seaborn as sns\n",
    "import matplotlib.pyplot as plt\n",
    "import warnings\n",
    "warnings.filterwarnings('ignore')\n",
    "\n",
    "import os\n",
    "for dirname, _, filenames in os.walk('/kaggle/input'):\n",
    "    for filename in filenames:\n",
    "        print(os.path.join(dirname, filename))\n",
    "\n",
    "from keras.models import Sequential\n",
    "from keras.layers import Dense\n",
    "from keras.layers import SimpleRNN\n",
    "from keras.layers import Dropout"
   ]
  },
  {
   "cell_type": "markdown",
   "id": "ca27ad38",
   "metadata": {},
   "source": [
    "## 2. Load and Check Data."
   ]
  },
  {
   "cell_type": "code",
   "execution_count": 2,
   "id": "7f7c8918",
   "metadata": {
    "scrolled": false
   },
   "outputs": [
    {
     "data": {
      "text/html": [
       "<div>\n",
       "<style scoped>\n",
       "    .dataframe tbody tr th:only-of-type {\n",
       "        vertical-align: middle;\n",
       "    }\n",
       "\n",
       "    .dataframe tbody tr th {\n",
       "        vertical-align: top;\n",
       "    }\n",
       "\n",
       "    .dataframe thead th {\n",
       "        text-align: right;\n",
       "    }\n",
       "</style>\n",
       "<table border=\"1\" class=\"dataframe\">\n",
       "  <thead>\n",
       "    <tr style=\"text-align: right;\">\n",
       "      <th></th>\n",
       "      <th>Date</th>\n",
       "      <th>Open</th>\n",
       "      <th>High</th>\n",
       "      <th>Low</th>\n",
       "      <th>Close</th>\n",
       "      <th>Volume</th>\n",
       "      <th>OpenInt</th>\n",
       "    </tr>\n",
       "  </thead>\n",
       "  <tbody>\n",
       "    <tr>\n",
       "      <th>0</th>\n",
       "      <td>2010-06-28</td>\n",
       "      <td>17.00</td>\n",
       "      <td>17.00</td>\n",
       "      <td>17.00</td>\n",
       "      <td>17.00</td>\n",
       "      <td>0</td>\n",
       "      <td>0</td>\n",
       "    </tr>\n",
       "    <tr>\n",
       "      <th>1</th>\n",
       "      <td>2010-06-29</td>\n",
       "      <td>19.00</td>\n",
       "      <td>25.00</td>\n",
       "      <td>17.54</td>\n",
       "      <td>23.89</td>\n",
       "      <td>18783276</td>\n",
       "      <td>0</td>\n",
       "    </tr>\n",
       "    <tr>\n",
       "      <th>2</th>\n",
       "      <td>2010-06-30</td>\n",
       "      <td>25.79</td>\n",
       "      <td>30.42</td>\n",
       "      <td>23.30</td>\n",
       "      <td>23.83</td>\n",
       "      <td>17194394</td>\n",
       "      <td>0</td>\n",
       "    </tr>\n",
       "    <tr>\n",
       "      <th>3</th>\n",
       "      <td>2010-07-01</td>\n",
       "      <td>25.00</td>\n",
       "      <td>25.92</td>\n",
       "      <td>20.27</td>\n",
       "      <td>21.96</td>\n",
       "      <td>8229863</td>\n",
       "      <td>0</td>\n",
       "    </tr>\n",
       "    <tr>\n",
       "      <th>4</th>\n",
       "      <td>2010-07-02</td>\n",
       "      <td>23.00</td>\n",
       "      <td>23.10</td>\n",
       "      <td>18.71</td>\n",
       "      <td>19.20</td>\n",
       "      <td>5141807</td>\n",
       "      <td>0</td>\n",
       "    </tr>\n",
       "  </tbody>\n",
       "</table>\n",
       "</div>"
      ],
      "text/plain": [
       "         Date   Open   High    Low  Close    Volume  OpenInt\n",
       "0  2010-06-28  17.00  17.00  17.00  17.00         0        0\n",
       "1  2010-06-29  19.00  25.00  17.54  23.89  18783276        0\n",
       "2  2010-06-30  25.79  30.42  23.30  23.83  17194394        0\n",
       "3  2010-07-01  25.00  25.92  20.27  21.96   8229863        0\n",
       "4  2010-07-02  23.00  23.10  18.71  19.20   5141807        0"
      ]
     },
     "execution_count": 2,
     "metadata": {},
     "output_type": "execute_result"
    }
   ],
   "source": [
    "data = pd.read_csv(\"tsla.us.txt\")\n",
    "data.head()"
   ]
  },
  {
   "cell_type": "code",
   "execution_count": 3,
   "id": "5ad793bb",
   "metadata": {},
   "outputs": [
    {
     "name": "stdout",
     "output_type": "stream",
     "text": [
      "Data Shape --> (1858, 7)\n"
     ]
    }
   ],
   "source": [
    "print(\"Data Shape -->\", data.shape)"
   ]
  },
  {
   "cell_type": "code",
   "execution_count": 4,
   "id": "8c368833",
   "metadata": {},
   "outputs": [
    {
     "data": {
      "text/html": [
       "<div>\n",
       "<style scoped>\n",
       "    .dataframe tbody tr th:only-of-type {\n",
       "        vertical-align: middle;\n",
       "    }\n",
       "\n",
       "    .dataframe tbody tr th {\n",
       "        vertical-align: top;\n",
       "    }\n",
       "\n",
       "    .dataframe thead th {\n",
       "        text-align: right;\n",
       "    }\n",
       "</style>\n",
       "<table border=\"1\" class=\"dataframe\">\n",
       "  <thead>\n",
       "    <tr style=\"text-align: right;\">\n",
       "      <th></th>\n",
       "      <th>Open</th>\n",
       "      <th>High</th>\n",
       "      <th>Low</th>\n",
       "      <th>Close</th>\n",
       "      <th>Volume</th>\n",
       "      <th>OpenInt</th>\n",
       "    </tr>\n",
       "  </thead>\n",
       "  <tbody>\n",
       "    <tr>\n",
       "      <th>count</th>\n",
       "      <td>1858.000000</td>\n",
       "      <td>1858.000000</td>\n",
       "      <td>1858.000000</td>\n",
       "      <td>1858.000000</td>\n",
       "      <td>1.858000e+03</td>\n",
       "      <td>1858.0</td>\n",
       "    </tr>\n",
       "    <tr>\n",
       "      <th>mean</th>\n",
       "      <td>150.389741</td>\n",
       "      <td>152.898737</td>\n",
       "      <td>147.688064</td>\n",
       "      <td>150.355047</td>\n",
       "      <td>4.416508e+06</td>\n",
       "      <td>0.0</td>\n",
       "    </tr>\n",
       "    <tr>\n",
       "      <th>std</th>\n",
       "      <td>107.071675</td>\n",
       "      <td>108.490099</td>\n",
       "      <td>105.481665</td>\n",
       "      <td>107.023737</td>\n",
       "      <td>4.244294e+06</td>\n",
       "      <td>0.0</td>\n",
       "    </tr>\n",
       "    <tr>\n",
       "      <th>min</th>\n",
       "      <td>16.140000</td>\n",
       "      <td>16.630000</td>\n",
       "      <td>8.030000</td>\n",
       "      <td>15.800000</td>\n",
       "      <td>0.000000e+00</td>\n",
       "      <td>0.0</td>\n",
       "    </tr>\n",
       "    <tr>\n",
       "      <th>25%</th>\n",
       "      <td>31.002500</td>\n",
       "      <td>31.732500</td>\n",
       "      <td>30.285000</td>\n",
       "      <td>31.112500</td>\n",
       "      <td>1.283324e+06</td>\n",
       "      <td>0.0</td>\n",
       "    </tr>\n",
       "    <tr>\n",
       "      <th>50%</th>\n",
       "      <td>184.440000</td>\n",
       "      <td>188.660000</td>\n",
       "      <td>181.450000</td>\n",
       "      <td>184.850000</td>\n",
       "      <td>3.421026e+06</td>\n",
       "      <td>0.0</td>\n",
       "    </tr>\n",
       "    <tr>\n",
       "      <th>75%</th>\n",
       "      <td>231.477500</td>\n",
       "      <td>235.375000</td>\n",
       "      <td>227.772500</td>\n",
       "      <td>230.920000</td>\n",
       "      <td>5.917672e+06</td>\n",
       "      <td>0.0</td>\n",
       "    </tr>\n",
       "    <tr>\n",
       "      <th>max</th>\n",
       "      <td>386.690000</td>\n",
       "      <td>389.610000</td>\n",
       "      <td>379.345000</td>\n",
       "      <td>385.000000</td>\n",
       "      <td>3.714989e+07</td>\n",
       "      <td>0.0</td>\n",
       "    </tr>\n",
       "  </tbody>\n",
       "</table>\n",
       "</div>"
      ],
      "text/plain": [
       "              Open         High          Low        Close        Volume  \\\n",
       "count  1858.000000  1858.000000  1858.000000  1858.000000  1.858000e+03   \n",
       "mean    150.389741   152.898737   147.688064   150.355047  4.416508e+06   \n",
       "std     107.071675   108.490099   105.481665   107.023737  4.244294e+06   \n",
       "min      16.140000    16.630000     8.030000    15.800000  0.000000e+00   \n",
       "25%      31.002500    31.732500    30.285000    31.112500  1.283324e+06   \n",
       "50%     184.440000   188.660000   181.450000   184.850000  3.421026e+06   \n",
       "75%     231.477500   235.375000   227.772500   230.920000  5.917672e+06   \n",
       "max     386.690000   389.610000   379.345000   385.000000  3.714989e+07   \n",
       "\n",
       "       OpenInt  \n",
       "count   1858.0  \n",
       "mean       0.0  \n",
       "std        0.0  \n",
       "min        0.0  \n",
       "25%        0.0  \n",
       "50%        0.0  \n",
       "75%        0.0  \n",
       "max        0.0  "
      ]
     },
     "execution_count": 4,
     "metadata": {},
     "output_type": "execute_result"
    }
   ],
   "source": [
    "data.describe()\n"
   ]
  },
  {
   "cell_type": "markdown",
   "id": "26552853",
   "metadata": {},
   "source": [
    "## 3. Split the dataset into training and testing sets."
   ]
  },
  {
   "cell_type": "code",
   "execution_count": 5,
   "id": "c98cc73c",
   "metadata": {},
   "outputs": [],
   "source": [
    "training_size = int(len(data)*0.80)\n",
    "data_len = len(data)\n",
    "\n",
    "train, test = data[0:training_size],data[training_size:data_len]"
   ]
  },
  {
   "cell_type": "code",
   "execution_count": 6,
   "id": "231b9728",
   "metadata": {},
   "outputs": [
    {
     "name": "stdout",
     "output_type": "stream",
     "text": [
      "Training Size -->  1486\n",
      "total length of data -->  1858\n",
      "Train length -->  1486\n",
      "Test length -->  372\n"
     ]
    }
   ],
   "source": [
    "print(\"Training Size --> \", training_size)\n",
    "print(\"total length of data --> \", data_len)\n",
    "print(\"Train length --> \", len(train))\n",
    "print(\"Test length --> \", len(test))"
   ]
  },
  {
   "cell_type": "markdown",
   "id": "246e331c",
   "metadata": {},
   "source": [
    "## 4. Normalize data."
   ]
  },
  {
   "cell_type": "code",
   "execution_count": 7,
   "id": "00c9e8b9",
   "metadata": {},
   "outputs": [],
   "source": [
    "# the part of data that we will use as training.\n",
    "train = train.loc[:, [\"Open\"]].values\n",
    "\n",
    "from sklearn.preprocessing import MinMaxScaler\n",
    "scaler = MinMaxScaler(feature_range=(0, 1))\n",
    "train_scaled = scaler.fit_transform(train)\n",
    "\n"
   ]
  },
  {
   "cell_type": "markdown",
   "id": "2e8e7c4f",
   "metadata": {},
   "source": [
    "## 5. X_train and Y_train."
   ]
  },
  {
   "cell_type": "code",
   "execution_count": 8,
   "id": "8a42b40d",
   "metadata": {},
   "outputs": [],
   "source": [
    "end_len = len(train_scaled)\n",
    "X_train = []\n",
    "y_train = []\n",
    "timesteps = 40\n",
    "\n",
    "for i in range(timesteps, end_len):\n",
    "    X_train.append(train_scaled[i - timesteps:i, 0])\n",
    "    y_train.append(train_scaled[i, 0])\n",
    "X_train, y_train = np.array(X_train), np.array(y_train)"
   ]
  },
  {
   "cell_type": "markdown",
   "id": "82317e9c",
   "metadata": {},
   "source": [
    "## 6. Reshape."
   ]
  },
  {
   "cell_type": "code",
   "execution_count": 9,
   "id": "22da62b0",
   "metadata": {},
   "outputs": [
    {
     "name": "stdout",
     "output_type": "stream",
     "text": [
      "X_train -->  (1446, 40, 1)\n",
      "y_train shape -->  (1446,)\n"
     ]
    }
   ],
   "source": [
    "X_train = np.reshape(X_train, (X_train.shape[0], X_train.shape[1], 1))\n",
    "print(\"X_train --> \", X_train.shape)\n",
    "print(\"y_train shape --> \", y_train.shape)"
   ]
  },
  {
   "cell_type": "markdown",
   "id": "7b4a2b44",
   "metadata": {},
   "source": [
    "## 7. Create Model."
   ]
  },
  {
   "cell_type": "code",
   "execution_count": 10,
   "id": "17904894",
   "metadata": {},
   "outputs": [],
   "source": [
    "regressor = Sequential()\n",
    "\n",
    "regressor.add(SimpleRNN(units = 50, activation = \"tanh\", return_sequences = True, input_shape = (X_train.shape[1],1)))\n",
    "regressor.add(Dropout(0.2))\n",
    "\n",
    "regressor.add(SimpleRNN(units = 50, activation = \"tanh\", return_sequences = True))\n",
    "regressor.add(Dropout(0.2))\n",
    "\n",
    "regressor.add(SimpleRNN(units = 50, activation = \"tanh\", return_sequences = True))\n",
    "regressor.add(Dropout(0.2))\n",
    "\n",
    "regressor.add(SimpleRNN(units = 50))\n",
    "regressor.add(Dropout(0.2))\n",
    "\n",
    "regressor.add(Dense(units = 1))"
   ]
  },
  {
   "cell_type": "markdown",
   "id": "3149134e",
   "metadata": {},
   "source": [
    "## 8. Compile Model."
   ]
  },
  {
   "cell_type": "code",
   "execution_count": 11,
   "id": "fb8dd20a",
   "metadata": {},
   "outputs": [],
   "source": [
    "regressor.compile(optimizer= \"adam\", loss = \"mean_squared_error\")"
   ]
  },
  {
   "cell_type": "code",
   "execution_count": 12,
   "id": "cdc0e055",
   "metadata": {},
   "outputs": [],
   "source": [
    "epochs = 100 \n",
    "batch_size = 20"
   ]
  },
  {
   "cell_type": "markdown",
   "id": "69f6ca20",
   "metadata": {},
   "source": [
    "## 9. Fit the model."
   ]
  },
  {
   "cell_type": "code",
   "execution_count": 13,
   "id": "c79310bd",
   "metadata": {},
   "outputs": [
    {
     "name": "stdout",
     "output_type": "stream",
     "text": [
      "Epoch 1/100\n",
      "73/73 [==============================] - 18s 84ms/step - loss: 0.3511\n",
      "Epoch 2/100\n",
      "73/73 [==============================] - 5s 67ms/step - loss: 0.1686\n",
      "Epoch 3/100\n",
      "73/73 [==============================] - 5s 74ms/step - loss: 0.0981\n",
      "Epoch 4/100\n",
      "73/73 [==============================] - 5s 73ms/step - loss: 0.0713\n",
      "Epoch 5/100\n",
      "73/73 [==============================] - 5s 65ms/step - loss: 0.0550\n",
      "Epoch 6/100\n",
      "73/73 [==============================] - 5s 74ms/step - loss: 0.0423\n",
      "Epoch 7/100\n",
      "73/73 [==============================] - 5s 63ms/step - loss: 0.0382\n",
      "Epoch 8/100\n",
      "73/73 [==============================] - 5s 64ms/step - loss: 0.0311\n",
      "Epoch 9/100\n",
      "73/73 [==============================] - 5s 68ms/step - loss: 0.0278\n",
      "Epoch 10/100\n",
      "73/73 [==============================] - 5s 62ms/step - loss: 0.0272\n",
      "Epoch 11/100\n",
      "73/73 [==============================] - 4s 60ms/step - loss: 0.0192\n",
      "Epoch 12/100\n",
      "73/73 [==============================] - 5s 62ms/step - loss: 0.0189\n",
      "Epoch 13/100\n",
      "73/73 [==============================] - 8s 104ms/step - loss: 0.0197\n",
      "Epoch 14/100\n",
      "73/73 [==============================] - 5s 71ms/step - loss: 0.0166\n",
      "Epoch 15/100\n",
      "73/73 [==============================] - 5s 65ms/step - loss: 0.0143\n",
      "Epoch 16/100\n",
      "73/73 [==============================] - 5s 69ms/step - loss: 0.0127\n",
      "Epoch 17/100\n",
      "73/73 [==============================] - 11s 146ms/step - loss: 0.0127\n",
      "Epoch 18/100\n",
      "73/73 [==============================] - 9s 122ms/step - loss: 0.0119\n",
      "Epoch 19/100\n",
      "73/73 [==============================] - 10s 131ms/step - loss: 0.0113\n",
      "Epoch 20/100\n",
      "73/73 [==============================] - 11s 146ms/step - loss: 0.0102\n",
      "Epoch 21/100\n",
      "73/73 [==============================] - 5s 69ms/step - loss: 0.0088\n",
      "Epoch 22/100\n",
      "73/73 [==============================] - 5s 66ms/step - loss: 0.0085\n",
      "Epoch 23/100\n",
      "73/73 [==============================] - 5s 64ms/step - loss: 0.0076\n",
      "Epoch 24/100\n",
      "73/73 [==============================] - 5s 64ms/step - loss: 0.0070\n",
      "Epoch 25/100\n",
      "73/73 [==============================] - 6s 85ms/step - loss: 0.0072\n",
      "Epoch 26/100\n",
      "73/73 [==============================] - 4s 57ms/step - loss: 0.0065\n",
      "Epoch 27/100\n",
      "73/73 [==============================] - 6s 86ms/step - loss: 0.0066\n",
      "Epoch 28/100\n",
      "73/73 [==============================] - 5s 71ms/step - loss: 0.0058\n",
      "Epoch 29/100\n",
      "73/73 [==============================] - 9s 120ms/step - loss: 0.0056\n",
      "Epoch 30/100\n",
      "73/73 [==============================] - 24s 339ms/step - loss: 0.0048\n",
      "Epoch 31/100\n",
      "73/73 [==============================] - 7s 88ms/step - loss: 0.0054\n",
      "Epoch 32/100\n",
      "73/73 [==============================] - 5s 66ms/step - loss: 0.0051\n",
      "Epoch 33/100\n",
      "73/73 [==============================] - 4s 58ms/step - loss: 0.0044\n",
      "Epoch 34/100\n",
      "73/73 [==============================] - 5s 63ms/step - loss: 0.0044\n",
      "Epoch 35/100\n",
      "73/73 [==============================] - 10s 131ms/step - loss: 0.0040\n",
      "Epoch 36/100\n",
      "73/73 [==============================] - 6s 88ms/step - loss: 0.0046\n",
      "Epoch 37/100\n",
      "73/73 [==============================] - 7s 95ms/step - loss: 0.0038\n",
      "Epoch 38/100\n",
      "73/73 [==============================] - 8s 111ms/step - loss: 0.0036\n",
      "Epoch 39/100\n",
      "73/73 [==============================] - 10s 131ms/step - loss: 0.0039\n",
      "Epoch 40/100\n",
      "73/73 [==============================] - 7s 91ms/step - loss: 0.0033\n",
      "Epoch 41/100\n",
      "73/73 [==============================] - 6s 77ms/step - loss: 0.0033\n",
      "Epoch 42/100\n",
      "73/73 [==============================] - 7s 90ms/step - loss: 0.0035\n",
      "Epoch 43/100\n",
      "73/73 [==============================] - 6s 78ms/step - loss: 0.0034\n",
      "Epoch 44/100\n",
      "73/73 [==============================] - 7s 97ms/step - loss: 0.0035\n",
      "Epoch 45/100\n",
      "73/73 [==============================] - 6s 84ms/step - loss: 0.0034\n",
      "Epoch 46/100\n",
      "73/73 [==============================] - 5s 63ms/step - loss: 0.0035\n",
      "Epoch 47/100\n",
      "73/73 [==============================] - 6s 84ms/step - loss: 0.0032\n",
      "Epoch 48/100\n",
      "73/73 [==============================] - 5s 72ms/step - loss: 0.0027\n",
      "Epoch 49/100\n",
      "73/73 [==============================] - 6s 83ms/step - loss: 0.0033\n",
      "Epoch 50/100\n",
      "73/73 [==============================] - 6s 79ms/step - loss: 0.0028\n",
      "Epoch 51/100\n",
      "73/73 [==============================] - 5s 64ms/step - loss: 0.0027\n",
      "Epoch 52/100\n",
      "73/73 [==============================] - 6s 80ms/step - loss: 0.0031\n",
      "Epoch 53/100\n",
      "73/73 [==============================] - 5s 73ms/step - loss: 0.0027\n",
      "Epoch 54/100\n",
      "73/73 [==============================] - 5s 73ms/step - loss: 0.0029\n",
      "Epoch 55/100\n",
      "73/73 [==============================] - 6s 78ms/step - loss: 0.0026\n",
      "Epoch 56/100\n",
      "73/73 [==============================] - 5s 73ms/step - loss: 0.0026\n",
      "Epoch 57/100\n",
      "73/73 [==============================] - 5s 73ms/step - loss: 0.0028\n",
      "Epoch 58/100\n",
      "73/73 [==============================] - 5s 64ms/step - loss: 0.0026\n",
      "Epoch 59/100\n",
      "73/73 [==============================] - 5s 63ms/step - loss: 0.0027\n",
      "Epoch 60/100\n",
      "73/73 [==============================] - 7s 96ms/step - loss: 0.0022\n",
      "Epoch 61/100\n",
      "73/73 [==============================] - 9s 127ms/step - loss: 0.0029\n",
      "Epoch 62/100\n",
      "73/73 [==============================] - 5s 70ms/step - loss: 0.0025\n",
      "Epoch 63/100\n",
      "73/73 [==============================] - 5s 73ms/step - loss: 0.0024\n",
      "Epoch 64/100\n",
      "73/73 [==============================] - 5s 74ms/step - loss: 0.0024\n",
      "Epoch 65/100\n",
      "73/73 [==============================] - 6s 78ms/step - loss: 0.0027\n",
      "Epoch 66/100\n",
      "73/73 [==============================] - 9s 120ms/step - loss: 0.0023\n",
      "Epoch 67/100\n",
      "73/73 [==============================] - 8s 105ms/step - loss: 0.0023\n",
      "Epoch 68/100\n",
      "73/73 [==============================] - 5s 64ms/step - loss: 0.0023\n",
      "Epoch 69/100\n",
      "73/73 [==============================] - 5s 63ms/step - loss: 0.0021\n",
      "Epoch 70/100\n",
      "73/73 [==============================] - 5s 64ms/step - loss: 0.0026\n",
      "Epoch 71/100\n",
      "73/73 [==============================] - 4s 59ms/step - loss: 0.0021\n",
      "Epoch 72/100\n",
      "73/73 [==============================] - 4s 61ms/step - loss: 0.0022\n",
      "Epoch 73/100\n",
      "73/73 [==============================] - 4s 61ms/step - loss: 0.0021\n",
      "Epoch 74/100\n",
      "73/73 [==============================] - 5s 62ms/step - loss: 0.0021\n",
      "Epoch 75/100\n",
      "73/73 [==============================] - 4s 60ms/step - loss: 0.0026\n",
      "Epoch 76/100\n",
      "73/73 [==============================] - 4s 61ms/step - loss: 0.0024\n",
      "Epoch 77/100\n",
      "73/73 [==============================] - 5s 63ms/step - loss: 0.0019\n",
      "Epoch 78/100\n",
      "73/73 [==============================] - 8s 105ms/step - loss: 0.0021\n",
      "Epoch 79/100\n",
      "73/73 [==============================] - 8s 111ms/step - loss: 0.0019\n",
      "Epoch 80/100\n",
      "73/73 [==============================] - 9s 120ms/step - loss: 0.0022\n",
      "Epoch 81/100\n",
      "73/73 [==============================] - 8s 103ms/step - loss: 0.0018\n",
      "Epoch 82/100\n",
      "73/73 [==============================] - 8s 104ms/step - loss: 0.0019\n",
      "Epoch 83/100\n",
      "73/73 [==============================] - 9s 118ms/step - loss: 0.0018\n",
      "Epoch 84/100\n",
      "73/73 [==============================] - 8s 104ms/step - loss: 0.0021\n",
      "Epoch 85/100\n",
      "73/73 [==============================] - 7s 100ms/step - loss: 0.0018\n",
      "Epoch 86/100\n",
      "73/73 [==============================] - 6s 78ms/step - loss: 0.0020\n",
      "Epoch 87/100\n",
      "73/73 [==============================] - 42s 586ms/step - loss: 0.0020\n",
      "Epoch 88/100\n",
      "73/73 [==============================] - 11s 145ms/step - loss: 0.0021\n",
      "Epoch 89/100\n",
      "73/73 [==============================] - 9s 120ms/step - loss: 0.0022\n",
      "Epoch 90/100\n",
      "73/73 [==============================] - 6s 83ms/step - loss: 0.0019\n",
      "Epoch 91/100\n",
      "73/73 [==============================] - 12s 170ms/step - loss: 0.0019\n",
      "Epoch 92/100\n",
      "73/73 [==============================] - 9s 124ms/step - loss: 0.0021\n",
      "Epoch 93/100\n",
      "73/73 [==============================] - 9s 118ms/step - loss: 0.0020\n",
      "Epoch 94/100\n",
      "73/73 [==============================] - 9s 129ms/step - loss: 0.0020\n",
      "Epoch 95/100\n",
      "73/73 [==============================] - 5s 74ms/step - loss: 0.0020\n",
      "Epoch 96/100\n",
      "73/73 [==============================] - 5s 72ms/step - loss: 0.0019\n",
      "Epoch 97/100\n",
      "73/73 [==============================] - 6s 79ms/step - loss: 0.0018\n",
      "Epoch 98/100\n",
      "73/73 [==============================] - 7s 96ms/step - loss: 0.0020\n",
      "Epoch 99/100\n",
      "73/73 [==============================] - 5s 74ms/step - loss: 0.0020\n",
      "Epoch 100/100\n",
      "73/73 [==============================] - 5s 75ms/step - loss: 0.0018\n"
     ]
    },
    {
     "data": {
      "text/plain": [
       "<keras.callbacks.History at 0x23ab079c400>"
      ]
     },
     "execution_count": 13,
     "metadata": {},
     "output_type": "execute_result"
    }
   ],
   "source": [
    "regressor.fit(X_train, y_train, epochs = epochs, batch_size = batch_size)"
   ]
  },
  {
   "cell_type": "markdown",
   "id": "6e3e466a",
   "metadata": {},
   "source": [
    "## 10. Predict."
   ]
  },
  {
   "cell_type": "code",
   "execution_count": 14,
   "id": "9871fef7",
   "metadata": {},
   "outputs": [
    {
     "data": {
      "text/html": [
       "<div>\n",
       "<style scoped>\n",
       "    .dataframe tbody tr th:only-of-type {\n",
       "        vertical-align: middle;\n",
       "    }\n",
       "\n",
       "    .dataframe tbody tr th {\n",
       "        vertical-align: top;\n",
       "    }\n",
       "\n",
       "    .dataframe thead th {\n",
       "        text-align: right;\n",
       "    }\n",
       "</style>\n",
       "<table border=\"1\" class=\"dataframe\">\n",
       "  <thead>\n",
       "    <tr style=\"text-align: right;\">\n",
       "      <th></th>\n",
       "      <th>Date</th>\n",
       "      <th>Open</th>\n",
       "      <th>High</th>\n",
       "      <th>Low</th>\n",
       "      <th>Close</th>\n",
       "      <th>Volume</th>\n",
       "      <th>OpenInt</th>\n",
       "    </tr>\n",
       "  </thead>\n",
       "  <tbody>\n",
       "    <tr>\n",
       "      <th>1486</th>\n",
       "      <td>2016-05-24</td>\n",
       "      <td>216.60</td>\n",
       "      <td>218.74</td>\n",
       "      <td>215.18</td>\n",
       "      <td>217.91</td>\n",
       "      <td>2928659</td>\n",
       "      <td>0</td>\n",
       "    </tr>\n",
       "    <tr>\n",
       "      <th>1487</th>\n",
       "      <td>2016-05-25</td>\n",
       "      <td>217.91</td>\n",
       "      <td>221.36</td>\n",
       "      <td>216.51</td>\n",
       "      <td>219.58</td>\n",
       "      <td>2514028</td>\n",
       "      <td>0</td>\n",
       "    </tr>\n",
       "    <tr>\n",
       "      <th>1488</th>\n",
       "      <td>2016-05-26</td>\n",
       "      <td>220.50</td>\n",
       "      <td>225.26</td>\n",
       "      <td>219.05</td>\n",
       "      <td>225.12</td>\n",
       "      <td>3560997</td>\n",
       "      <td>0</td>\n",
       "    </tr>\n",
       "    <tr>\n",
       "      <th>1489</th>\n",
       "      <td>2016-05-27</td>\n",
       "      <td>224.99</td>\n",
       "      <td>225.93</td>\n",
       "      <td>220.75</td>\n",
       "      <td>223.04</td>\n",
       "      <td>3081734</td>\n",
       "      <td>0</td>\n",
       "    </tr>\n",
       "    <tr>\n",
       "      <th>1490</th>\n",
       "      <td>2016-05-31</td>\n",
       "      <td>223.04</td>\n",
       "      <td>224.75</td>\n",
       "      <td>221.50</td>\n",
       "      <td>223.23</td>\n",
       "      <td>2046828</td>\n",
       "      <td>0</td>\n",
       "    </tr>\n",
       "  </tbody>\n",
       "</table>\n",
       "</div>"
      ],
      "text/plain": [
       "            Date    Open    High     Low   Close   Volume  OpenInt\n",
       "1486  2016-05-24  216.60  218.74  215.18  217.91  2928659        0\n",
       "1487  2016-05-25  217.91  221.36  216.51  219.58  2514028        0\n",
       "1488  2016-05-26  220.50  225.26  219.05  225.12  3560997        0\n",
       "1489  2016-05-27  224.99  225.93  220.75  223.04  3081734        0\n",
       "1490  2016-05-31  223.04  224.75  221.50  223.23  2046828        0"
      ]
     },
     "execution_count": 14,
     "metadata": {},
     "output_type": "execute_result"
    }
   ],
   "source": [
    "test.head()\n"
   ]
  },
  {
   "cell_type": "code",
   "execution_count": 15,
   "id": "79a5a57e",
   "metadata": {},
   "outputs": [
    {
     "name": "stdout",
     "output_type": "stream",
     "text": [
      "Real Price Shape -->  (372, 1)\n"
     ]
    }
   ],
   "source": [
    "real_price = test.loc[:, [\"Open\"]].values\n",
    "print(\"Real Price Shape --> \", real_price.shape)"
   ]
  },
  {
   "cell_type": "code",
   "execution_count": 16,
   "id": "e0d24682",
   "metadata": {},
   "outputs": [],
   "source": [
    "dataset_total = pd.concat((data[\"Open\"], test[\"Open\"]), axis = 0)\n",
    "inputs = dataset_total[len(dataset_total) - len(test) - timesteps:].values.reshape(-1,1)\n",
    "inputs = scaler.transform(inputs)"
   ]
  },
  {
   "cell_type": "code",
   "execution_count": 17,
   "id": "a13996c3",
   "metadata": {},
   "outputs": [
    {
     "name": "stdout",
     "output_type": "stream",
     "text": [
      "X_test shape -->  (372, 40)\n"
     ]
    }
   ],
   "source": [
    "X_test = []\n",
    "\n",
    "for i in range(timesteps, 412):\n",
    "    X_test.append(inputs[i-timesteps:i, 0])\n",
    "X_test = np.array(X_test)\n",
    "\n",
    "print(\"X_test shape --> \", X_test.shape)"
   ]
  },
  {
   "cell_type": "code",
   "execution_count": 18,
   "id": "1167f3c3",
   "metadata": {},
   "outputs": [
    {
     "name": "stdout",
     "output_type": "stream",
     "text": [
      "12/12 [==============================] - 4s 38ms/step\n"
     ]
    }
   ],
   "source": [
    "X_test = np.reshape(X_test, (X_test.shape[0], X_test.shape[1], 1))\n",
    "predict = regressor.predict(X_test)\n",
    "predict = scaler.inverse_transform(predict)"
   ]
  },
  {
   "cell_type": "markdown",
   "id": "65a07e09",
   "metadata": {},
   "source": [
    "## Evaluate the model."
   ]
  },
  {
   "cell_type": "code",
   "execution_count": 19,
   "id": "4b65fed0",
   "metadata": {
    "scrolled": true
   },
   "outputs": [
    {
     "data": {
      "image/png": "[encoded data removed]",
      "text/plain": [
       "<Figure size 640x480 with 1 Axes>"
      ]
     },
     "metadata": {},
     "output_type": "display_data"
    }
   ],
   "source": [
    "plt.plot(real_price[:220], color = \"red\", label = \"Real Stock Price\")\n",
    "plt.plot(predict[:220], color = \"black\", label = \"Predict Stock Price\")\n",
    "plt.title(\"Stock Price Prediction\")\n",
    "plt.xlabel(\"Time\")\n",
    "plt.ylabel(\"Tesla Stock Price\")\n",
    "plt.legend()\n",
    "plt.show()"
   ]
  }
 ],
 "metadata": {
  "kernelspec": {
   "display_name": "Python 3 (ipykernel)",
   "language": "python",
   "name": "python3"
  },
  "language_info": {
   "codemirror_mode": {
    "name": "ipython",
    "version": 3
   },
   "file_extension": ".py",
   "mimetype": "text/x-python",
   "name": "python",
   "nbconvert_exporter": "python",
   "pygments_lexer": "ipython3",
   "version": "3.10.13"
  }
 },
 "nbformat": 4,
 "nbformat_minor": 5
}
